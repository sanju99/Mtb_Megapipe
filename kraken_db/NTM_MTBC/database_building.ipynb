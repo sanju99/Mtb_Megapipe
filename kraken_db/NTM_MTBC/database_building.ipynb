{
 "cells": [
  {
   "cell_type": "code",
   "execution_count": 2,
   "id": "23055cea-6013-4aed-a78a-9983a6ae3e49",
   "metadata": {},
   "outputs": [],
   "source": [
    "import numpy as np\n",
    "import pandas as pd\n",
    "import vcf, glob, os, shutil, re, time\n",
    "from Bio import Seq, SeqIO, Entrez\n",
    "\n",
    "db_name = 'NTM_MTBC'"
   ]
  },
  {
   "cell_type": "code",
   "execution_count": 3,
   "id": "e7f6f1f2-5f43-494c-ba7e-807d45723eb0",
   "metadata": {},
   "outputs": [
    {
     "data": {
      "text/plain": [
       "['HAPL_4JHX48QMO4685KC6_1.kraken.filtered.fastq.gz',\n",
       " 'HAPL_4JHX48QMO4685KC6_2.kraken.filtered.fastq.gz',\n",
       " 'kraken_classifications',\n",
       " 'kraken_classifications_standard_DB.txt.gz',\n",
       " 'kraken_report',\n",
       " 'kraken_report_standard_DB.txt',\n",
       " 'unclassified_percent.txt']"
      ]
     },
     "execution_count": 3,
     "metadata": {},
     "output_type": "execute_result"
    }
   ],
   "source": [
    "output_dir = \"/n/data1/hms/dbmi/farhat/rollingDB/genomic_data/HAPL_4JHX48QMO4685KC6/HAPL_4JHX48QMO4685KC6/kraken\"\n",
    "os.listdir(output_dir)"
   ]
  },
  {
   "cell_type": "code",
   "execution_count": 4,
   "id": "3936124a-8827-42f0-b21b-9793677e2c2d",
   "metadata": {},
   "outputs": [
    {
     "data": {
      "text/plain": [
       "inf"
      ]
     },
     "execution_count": 4,
     "metadata": {},
     "output_type": "execute_result"
    }
   ],
   "source": [
    "339268, 1790, 1780"
   ]
  },
  {
   "cell_type": "code",
   "execution_count": null,
   "id": "b6eecb20-0920-448e-b5e2-c3587594e93e",
   "metadata": {},
   "outputs": [],
   "source": [
    "grep '^>' /n/scratch/users/s/sak0914/mycobacteriaceae_genomes_renamed/*.fna | grep -E '\\|kraken\\|(339268|1790|1780)'"
   ]
  },
  {
   "cell_type": "code",
   "execution_count": 8,
   "id": "29e8fc8c-1166-4949-8b05-c629707f88b4",
   "metadata": {},
   "outputs": [
    {
     "data": {
      "text/plain": [
       "14438"
      ]
     },
     "execution_count": 8,
     "metadata": {},
     "output_type": "execute_result"
    }
   ],
   "source": [
    "genomes = glob.glob(\"/n/scratch/users/s/sak0914/mycobacteriaceae_genomes_renamed/*\")\n",
    "len(genomes)"
   ]
  },
  {
   "cell_type": "code",
   "execution_count": null,
   "id": "c49babe7-b7d9-4d76-afc2-1be29d2d6fa9",
   "metadata": {},
   "outputs": [],
   "source": [
    "# for i, genome in enumerate(genomes):\n",
    "#     fasta_headers = [seq.id for seq in SeqIO.parse(genome, \"fasta\")]\n",
    "\n",
    "#     for header in fasta_headers:\n",
    "#         if '339268' in header:\n",
    "#             print(genome, '339268')\n",
    "#             break\n",
    "#         elif '1790' in header:\n",
    "#             print(genome, '1790')\n",
    "#             break\n",
    "#         elif '1780' in header:\n",
    "#             print(genome, '1780')\n",
    "#             break\n",
    "\n",
    "#     if i % 1000 == 0:\n",
    "#         print(i)"
   ]
  },
  {
   "cell_type": "code",
   "execution_count": null,
   "id": "1e7658cc-b1e5-440f-8d55-d939d424afd6",
   "metadata": {},
   "outputs": [],
   "source": []
  },
  {
   "cell_type": "markdown",
   "id": "bb5d4271-18ad-459a-93c2-f8ff1e8afbe4",
   "metadata": {},
   "source": [
    "# Get MTBC and NTM Taxids"
   ]
  },
  {
   "cell_type": "code",
   "execution_count": 2,
   "id": "357a5dcf-52d3-4f93-9f37-aabbd99f6df8",
   "metadata": {},
   "outputs": [],
   "source": [
    "# # M. abscessus is Mycobacteroides, a different genus. So include everything within the family Mycobacteriaceae (1762) \n",
    "# all_mycobacteria_taxids = get_child_taxids(1762, \"skulkarni@g.harvard.edu\")\n",
    "# # print(f\"{len(all_MTBC_taxids)} MTBC taxids\")\n",
    "# print(f\"{len(all_mycobacteria_taxids)} mycobacterial (including NTM) taxids\")\n",
    "# pd.Series(all_mycobacteria_taxids).to_csv(f\"./Mycobacteriaceae_taxids.csv\", index=False, header=None)"
   ]
  },
  {
   "cell_type": "code",
   "execution_count": 2,
   "id": "c822fffb-820c-46bd-88fc-6890c82beee2",
   "metadata": {},
   "outputs": [
    {
     "name": "stdout",
     "output_type": "stream",
     "text": [
      "True\n",
      "7475 mycobacterial (including NTM) taxids\n"
     ]
    }
   ],
   "source": [
    "all_mycobacteria_taxids = pd.read_csv(f\"./Mycobacteriaceae_taxids.csv\", header=None)[0].values\n",
    "print(1762 in all_mycobacteria_taxids)\n",
    "print(f\"{len(all_mycobacteria_taxids)} mycobacterial (including NTM) taxids\")"
   ]
  },
  {
   "cell_type": "markdown",
   "id": "370c15d7-ced8-431d-afa4-55a68be193de",
   "metadata": {},
   "source": [
    "# Get NCBI genomes used to construct the standard kraken database, but only within the family\n",
    "\n",
    "## 1. Download Genomes from NCBI"
   ]
  },
  {
   "cell_type": "code",
   "execution_count": null,
   "id": "23ae2528-1793-425d-9a6e-bd4f346469e4",
   "metadata": {},
   "outputs": [],
   "source": [
    "# wget ftp://ftp.ncbi.nih.gov/genomes/genbank/bacteria/assembly_summary.txt"
   ]
  },
  {
   "cell_type": "code",
   "execution_count": 25,
   "id": "42077e74-68c2-438c-931a-7cada72ae729",
   "metadata": {},
   "outputs": [
    {
     "name": "stderr",
     "output_type": "stream",
     "text": [
      "/tmp/ipykernel_5562/180699650.py:1: DtypeWarning: Columns (34,35,36) have mixed types. Specify dtype option on import or set low_memory=False.\n",
      "  bacteria_assembly_summary = pd.read_csv(\"/n/scratch/users/s/sak0914/bacteria_assembly_summary.txt\", sep='\\t', skiprows=1)\n"
     ]
    }
   ],
   "source": [
    "bacteria_assembly_summary = pd.read_csv(\"/n/scratch/users/s/sak0914/bacteria_assembly_summary.txt\", sep='\\t', skiprows=1)"
   ]
  },
  {
   "cell_type": "code",
   "execution_count": 36,
   "id": "f5244aa2-0ca7-4573-8364-342f2ab0d1a5",
   "metadata": {},
   "outputs": [
    {
     "data": {
      "text/plain": [
       "2635"
      ]
     },
     "execution_count": 36,
     "metadata": {},
     "output_type": "execute_result"
    }
   ],
   "source": [
    "found_taxids = bacteria_assembly_summary.query(\"taxid in @all_mycobacteria_taxids\").taxid.unique()\n",
    "len(found_taxids)"
   ]
  },
  {
   "cell_type": "code",
   "execution_count": 46,
   "id": "25ba3ad2-dda0-4113-af1b-ecd1b992ede7",
   "metadata": {},
   "outputs": [
    {
     "data": {
      "text/html": [
       "<div>\n",
       "<style scoped>\n",
       "    .dataframe tbody tr th:only-of-type {\n",
       "        vertical-align: middle;\n",
       "    }\n",
       "\n",
       "    .dataframe tbody tr th {\n",
       "        vertical-align: top;\n",
       "    }\n",
       "\n",
       "    .dataframe thead th {\n",
       "        text-align: right;\n",
       "    }\n",
       "</style>\n",
       "<table border=\"1\" class=\"dataframe\">\n",
       "  <thead>\n",
       "    <tr style=\"text-align: right;\">\n",
       "      <th></th>\n",
       "      <th>#assembly_accession</th>\n",
       "      <th>bioproject</th>\n",
       "      <th>biosample</th>\n",
       "      <th>wgs_master</th>\n",
       "      <th>refseq_category</th>\n",
       "      <th>taxid</th>\n",
       "      <th>species_taxid</th>\n",
       "      <th>organism_name</th>\n",
       "      <th>infraspecific_name</th>\n",
       "      <th>isolate</th>\n",
       "      <th>...</th>\n",
       "      <th>replicon_count</th>\n",
       "      <th>scaffold_count</th>\n",
       "      <th>contig_count</th>\n",
       "      <th>annotation_provider</th>\n",
       "      <th>annotation_name</th>\n",
       "      <th>annotation_date</th>\n",
       "      <th>total_gene_count</th>\n",
       "      <th>protein_coding_gene_count</th>\n",
       "      <th>non_coding_gene_count</th>\n",
       "      <th>pubmed_id</th>\n",
       "    </tr>\n",
       "  </thead>\n",
       "  <tbody>\n",
       "  </tbody>\n",
       "</table>\n",
       "<p>0 rows × 38 columns</p>\n",
       "</div>"
      ],
      "text/plain": [
       "Empty DataFrame\n",
       "Columns: [#assembly_accession, bioproject, biosample, wgs_master, refseq_category, taxid, species_taxid, organism_name, infraspecific_name, isolate, version_status, assembly_level, release_type, genome_rep, seq_rel_date, asm_name, asm_submitter, gbrs_paired_asm, paired_asm_comp, ftp_path, excluded_from_refseq, relation_to_type_material, asm_not_live_date, assembly_type, group, genome_size, genome_size_ungapped, gc_percent, replicon_count, scaffold_count, contig_count, annotation_provider, annotation_name, annotation_date, total_gene_count, protein_coding_gene_count, non_coding_gene_count, pubmed_id]\n",
       "Index: []\n",
       "\n",
       "[0 rows x 38 columns]"
      ]
     },
     "execution_count": 46,
     "metadata": {},
     "output_type": "execute_result"
    }
   ],
   "source": [
    "bacteria_assembly_summary.query(\"taxid==1762 | species_taxid == 1762\")"
   ]
  },
  {
   "cell_type": "code",
   "execution_count": 44,
   "id": "e15770ac-5215-49df-9d2c-1dba16587e2b",
   "metadata": {},
   "outputs": [
    {
     "data": {
      "text/plain": [
       "(False, True, True, False)"
      ]
     },
     "execution_count": 44,
     "metadata": {},
     "output_type": "execute_result"
    }
   ],
   "source": [
    "77643 in found_taxids, 1765 in found_taxids, 78331 in found_taxids, 1762 in found_taxids"
   ]
  },
  {
   "cell_type": "code",
   "execution_count": 49,
   "id": "0dfc0f2a-9258-4ddf-9ee7-d44e4277d7fa",
   "metadata": {},
   "outputs": [
    {
     "data": {
      "text/html": [
       "<div>\n",
       "<style scoped>\n",
       "    .dataframe tbody tr th:only-of-type {\n",
       "        vertical-align: middle;\n",
       "    }\n",
       "\n",
       "    .dataframe tbody tr th {\n",
       "        vertical-align: top;\n",
       "    }\n",
       "\n",
       "    .dataframe thead th {\n",
       "        text-align: right;\n",
       "    }\n",
       "</style>\n",
       "<table border=\"1\" class=\"dataframe\">\n",
       "  <thead>\n",
       "    <tr style=\"text-align: right;\">\n",
       "      <th></th>\n",
       "      <th>#assembly_accession</th>\n",
       "      <th>bioproject</th>\n",
       "      <th>biosample</th>\n",
       "      <th>wgs_master</th>\n",
       "      <th>refseq_category</th>\n",
       "      <th>taxid</th>\n",
       "      <th>species_taxid</th>\n",
       "      <th>organism_name</th>\n",
       "      <th>infraspecific_name</th>\n",
       "      <th>isolate</th>\n",
       "      <th>...</th>\n",
       "      <th>replicon_count</th>\n",
       "      <th>scaffold_count</th>\n",
       "      <th>contig_count</th>\n",
       "      <th>annotation_provider</th>\n",
       "      <th>annotation_name</th>\n",
       "      <th>annotation_date</th>\n",
       "      <th>total_gene_count</th>\n",
       "      <th>protein_coding_gene_count</th>\n",
       "      <th>non_coding_gene_count</th>\n",
       "      <th>pubmed_id</th>\n",
       "    </tr>\n",
       "  </thead>\n",
       "  <tbody>\n",
       "  </tbody>\n",
       "</table>\n",
       "<p>0 rows × 38 columns</p>\n",
       "</div>"
      ],
      "text/plain": [
       "Empty DataFrame\n",
       "Columns: [#assembly_accession, bioproject, biosample, wgs_master, refseq_category, taxid, species_taxid, organism_name, infraspecific_name, isolate, version_status, assembly_level, release_type, genome_rep, seq_rel_date, asm_name, asm_submitter, gbrs_paired_asm, paired_asm_comp, ftp_path, excluded_from_refseq, relation_to_type_material, asm_not_live_date, assembly_type, group, genome_size, genome_size_ungapped, gc_percent, replicon_count, scaffold_count, contig_count, annotation_provider, annotation_name, annotation_date, total_gene_count, protein_coding_gene_count, non_coding_gene_count, pubmed_id]\n",
       "Index: []\n",
       "\n",
       "[0 rows x 38 columns]"
      ]
     },
     "execution_count": 49,
     "metadata": {},
     "output_type": "execute_result"
    }
   ],
   "source": [
    "# check haha\n",
    "bacteria_assembly_summary.query(\"taxid in @all_mycobacteria_taxids & ~organism_name.str.contains('Myco')\")"
   ]
  },
  {
   "cell_type": "code",
   "execution_count": 126,
   "id": "0ddcddb2-e3d5-4f5b-b6ed-4ede3cdadf98",
   "metadata": {},
   "outputs": [],
   "source": [
    "bacteria_assembly_summary.query(\"(taxid in @all_mycobacteria_taxids | species_taxid in @all_mycobacteria_taxids) & ftp_path != 'na'\")[['#assembly_accession', 'ftp_path', 'taxid', 'organism_name']].dropna().to_csv(\"./Mycobacteriaceae_assemblies.txt\", sep='\\t', index=False, header=None)"
   ]
  },
  {
   "cell_type": "code",
   "execution_count": 4,
   "id": "b761522b-3d29-4509-844b-e6cd63f16454",
   "metadata": {},
   "outputs": [
    {
     "data": {
      "text/plain": [
       "14438"
      ]
     },
     "execution_count": 4,
     "metadata": {},
     "output_type": "execute_result"
    }
   ],
   "source": [
    "mycobacteria_assemblies = pd.read_csv(\"./Mycobacteriaceae_assemblies.txt\", sep='\\t', header=None)\n",
    "mycobacteria_assemblies.columns = ['Assembly', 'FTP_path', 'TaxID', 'Organism_Name']\n",
    "mycobacteria_assemblies['SampleName'] = [os.path.basename(FTP_path) for FTP_path in mycobacteria_assemblies['FTP_path'].values]\n",
    "len(mycobacteria_assemblies)"
   ]
  },
  {
   "cell_type": "code",
   "execution_count": 5,
   "id": "9da00f98-21b8-4278-9303-813ee4f1f275",
   "metadata": {},
   "outputs": [
    {
     "data": {
      "text/plain": [
       "2636"
      ]
     },
     "execution_count": 5,
     "metadata": {},
     "output_type": "execute_result"
    }
   ],
   "source": [
    "mycobacteria_assemblies.TaxID.nunique()"
   ]
  },
  {
   "cell_type": "code",
   "execution_count": 8,
   "id": "24063cff-d3cd-467f-9615-c76da43192bb",
   "metadata": {},
   "outputs": [
    {
     "data": {
      "text/plain": [
       "True"
      ]
     },
     "execution_count": 8,
     "metadata": {},
     "output_type": "execute_result"
    }
   ],
   "source": [
    "292462 in mycobacteria_assemblies.TaxID.values"
   ]
  },
  {
   "cell_type": "code",
   "execution_count": 9,
   "id": "4d24156b-6843-49f7-bca0-b1f55b1a3da1",
   "metadata": {},
   "outputs": [
    {
     "data": {
      "text/html": [
       "<div>\n",
       "<style scoped>\n",
       "    .dataframe tbody tr th:only-of-type {\n",
       "        vertical-align: middle;\n",
       "    }\n",
       "\n",
       "    .dataframe tbody tr th {\n",
       "        vertical-align: top;\n",
       "    }\n",
       "\n",
       "    .dataframe thead th {\n",
       "        text-align: right;\n",
       "    }\n",
       "</style>\n",
       "<table border=\"1\" class=\"dataframe\">\n",
       "  <thead>\n",
       "    <tr style=\"text-align: right;\">\n",
       "      <th></th>\n",
       "      <th>Assembly</th>\n",
       "      <th>FTP_path</th>\n",
       "      <th>TaxID</th>\n",
       "      <th>Organism_Name</th>\n",
       "      <th>SampleName</th>\n",
       "    </tr>\n",
       "  </thead>\n",
       "  <tbody>\n",
       "    <tr>\n",
       "      <th>9748</th>\n",
       "      <td>GCA_002101635.1</td>\n",
       "      <td>https://ftp.ncbi.nlm.nih.gov/genomes/all/GCA/0...</td>\n",
       "      <td>292462</td>\n",
       "      <td>Mycobacterium florentinum</td>\n",
       "      <td>GCA_002101635.1_ASM210163v1</td>\n",
       "    </tr>\n",
       "    <tr>\n",
       "      <th>9749</th>\n",
       "      <td>GCA_010730355.1</td>\n",
       "      <td>https://ftp.ncbi.nlm.nih.gov/genomes/all/GCA/0...</td>\n",
       "      <td>292462</td>\n",
       "      <td>Mycobacterium florentinum</td>\n",
       "      <td>GCA_010730355.1_ASM1073035v1</td>\n",
       "    </tr>\n",
       "    <tr>\n",
       "      <th>9750</th>\n",
       "      <td>GCA_025823305.1</td>\n",
       "      <td>https://ftp.ncbi.nlm.nih.gov/genomes/all/GCA/0...</td>\n",
       "      <td>292462</td>\n",
       "      <td>Mycobacterium florentinum</td>\n",
       "      <td>GCA_025823305.1_ASM2582330v1</td>\n",
       "    </tr>\n",
       "  </tbody>\n",
       "</table>\n",
       "</div>"
      ],
      "text/plain": [
       "             Assembly                                           FTP_path  \\\n",
       "9748  GCA_002101635.1  https://ftp.ncbi.nlm.nih.gov/genomes/all/GCA/0...   \n",
       "9749  GCA_010730355.1  https://ftp.ncbi.nlm.nih.gov/genomes/all/GCA/0...   \n",
       "9750  GCA_025823305.1  https://ftp.ncbi.nlm.nih.gov/genomes/all/GCA/0...   \n",
       "\n",
       "       TaxID              Organism_Name                    SampleName  \n",
       "9748  292462  Mycobacterium florentinum   GCA_002101635.1_ASM210163v1  \n",
       "9749  292462  Mycobacterium florentinum  GCA_010730355.1_ASM1073035v1  \n",
       "9750  292462  Mycobacterium florentinum  GCA_025823305.1_ASM2582330v1  "
      ]
     },
     "execution_count": 9,
     "metadata": {},
     "output_type": "execute_result"
    }
   ],
   "source": [
    "mycobacteria_assemblies.query(\"TaxID==292462\")"
   ]
  },
  {
   "cell_type": "markdown",
   "id": "68c854b0-7e8a-4495-8405-2648f22c57e5",
   "metadata": {},
   "source": [
    "```bash\n",
    "source activate bioinformatics\n",
    "\n",
    "out_dir=\"/n/scratch/users/s/sak0914/mycobacteriaceae_genomes\"\n",
    "\n",
    "while IFS=$'\\t', read -r accession ftp_path taxid oranism_name; do\n",
    "    \n",
    "    sampleName=$(basename \"$ftp_path\")\n",
    "\n",
    "    if [ ! -f \"$out_dir/${sampleName}_genomic.fna\" ]; then\n",
    "        wget \"$ftp_path/${sampleName}_genomic.fna.gz\" -P $out_dir\n",
    "        gunzip \"$out_dir/${sampleName}_genomic.fna.gz\"\n",
    "\n",
    "    fi\n",
    "    \n",
    "done < /home/sak0914/Mtb_Megapipe/kraken_db/NTM_MTBC/Mycobacteriaceae_assemblies.txt\n",
    "```"
   ]
  },
  {
   "cell_type": "markdown",
   "id": "948ed11d-d7fe-4234-b601-3e30d1f68365",
   "metadata": {},
   "source": [
    "## 2. Remove plasmid sequences because they are shared across NTMs and can confuse the classification\n",
    "\n",
    "We don't need the sensitivity of plasmids because MTBC doesn't have plasmids. So the contaminating reads that we're trying to filter out won't map to MTBC anyway because they're too divergent."
   ]
  },
  {
   "cell_type": "code",
   "execution_count": 28,
   "id": "c5c49f54-ed42-4b49-a519-be81395f700e",
   "metadata": {},
   "outputs": [],
   "source": [
    "# in_genomes_dir = \"/n/scratch/users/s/sak0914/mycobacteriaceae_genomes\"\n",
    "# out_genomes_dir = \"/n/scratch/users/s/sak0914/mycobacteriaceae_no_plasmids\"\n",
    "\n",
    "# os.makedirs(out_genomes_dir, exist_ok=True)\n",
    "\n",
    "# for infile in glob.glob(f\"{in_genomes_dir}/*.fna\"):\n",
    "\n",
    "#     outfile = os.path.join(out_genomes_dir, os.path.basename(infile))\n",
    "\n",
    "#     all_records = [seq for seq in SeqIO.parse(infile, \"fasta\")]\n",
    "#     records = [seq for seq in SeqIO.parse(infile, \"fasta\") if \"plasmid\" not in seq.description]\n",
    "    \n",
    "#     # Write the non-plasmid records to the output file\n",
    "#     SeqIO.write(records, outfile, \"fasta\")\n",
    "\n",
    "#     # Optionally, print plasmid sequences found\n",
    "#     if len(all_records) > len(records):\n",
    "#         print(f\"{infile} has {len(all_records) - len(records)} plasmids\")"
   ]
  },
  {
   "cell_type": "markdown",
   "id": "d14f092a-56fb-4b6a-b0c1-25f888747f78",
   "metadata": {},
   "source": [
    "## 3. Rename headers of the FASTQ files to include the Taxids"
   ]
  },
  {
   "cell_type": "code",
   "execution_count": 11,
   "id": "075ba018-b77c-4ccc-a8ad-e443178e56be",
   "metadata": {
    "scrolled": true
   },
   "outputs": [],
   "source": [
    "# in_genomes_dir = \"/n/scratch/users/s/sak0914/mycobacteriaceae_no_plasmids\"\n",
    "# out_genomes_dir = \"/n/scratch/users/s/sak0914/mycobacteriaceae_genomes_renamed\"\n",
    "\n",
    "# unique_taxids = []\n",
    "\n",
    "# for i, fName in enumerate(glob.glob(f\"{in_genomes_dir}/*\")):\n",
    "\n",
    "#     out_fName = os.path.join(out_genomes_dir, os.path.basename(fName))\n",
    "\n",
    "#     if os.path.isfile(fName): # not os.path.isfile(out_fName) and \n",
    "\n",
    "#         assembly_name = os.path.basename(fName).split('_genomic')[0]\n",
    "    \n",
    "#         found_name = mycobacteria_assemblies.query(\"FTP_path.str.contains(@assembly_name)\")\n",
    "#         assert len(found_name) == 1\n",
    "        \n",
    "#         taxid = found_name.TaxID.values[0]\n",
    "#         unique_taxids.append(taxid)\n",
    "\n",
    "#         # exclude the description for now\n",
    "#         sequences = [(seq.id, seq.seq) for seq in SeqIO.parse(fName, \"fasta\")]\n",
    "    \n",
    "#         # there could be plasmids or multiple contigs because NTMs have plasmids, or the genomes may not be amazing so they are fragmented into multiple contigs so there will be multiple sequences per FASTA file\n",
    "#         # assert len(sequences) == 1\n",
    "    \n",
    "#         # write to a new directory so that we don't change the existing FASTQ files\n",
    "#         with open(out_fName, \"w+\") as file:\n",
    "            \n",
    "#             # write all the sequences back\n",
    "#             for seq in sequences:\n",
    "                \n",
    "#                 # append the taxid to the existing sequence name\n",
    "#                 header = seq[0] + f'|kraken:taxid|{taxid}'# + seq[1]\n",
    "                \n",
    "#                 file.write(f\">{header}\\n\")\n",
    "#                 file.write(str(seq[1]) + \"\\n\")\n",
    "\n",
    "#     if i % 1000 == 0:\n",
    "#         print(i)\n",
    "\n",
    "# unique_taxids = np.unique(unique_taxids)"
   ]
  },
  {
   "cell_type": "code",
   "execution_count": 5,
   "id": "0f4511f2-afc2-4664-beae-6ca6e8254ca1",
   "metadata": {},
   "outputs": [
    {
     "data": {
      "text/plain": [
       "(2636, 2636)"
      ]
     },
     "execution_count": 5,
     "metadata": {},
     "output_type": "execute_result"
    }
   ],
   "source": [
    "len(unique_taxids), mycobacteria_assemblies.TaxID.nunique()"
   ]
  },
  {
   "cell_type": "code",
   "execution_count": 6,
   "id": "f8447ac3-288a-41bb-8a6e-7362da1f445f",
   "metadata": {},
   "outputs": [
    {
     "data": {
      "text/plain": [
       "set()"
      ]
     },
     "execution_count": 6,
     "metadata": {},
     "output_type": "execute_result"
    }
   ],
   "source": [
    "set(unique_taxids) - set(mycobacteria_assemblies.TaxID)"
   ]
  },
  {
   "cell_type": "code",
   "execution_count": null,
   "id": "ad8b150c-197d-4556-8da3-2626534afd86",
   "metadata": {},
   "outputs": [],
   "source": [
    "DBNAME=\"mycobacteriaceae\"\n",
    "\n",
    "kraken2-build --download-taxonomy --db $DBNAME\n",
    "\n",
    "for file in mycobacteriaceae_genomes_renamed/*.fna\n",
    "do\n",
    "    kraken2-build --add-to-library $file --db $DBNAME\n",
    "done\n",
    "\n",
    "# build the database. Took approximately 5 minutes for 155 genomes\n",
    "kraken2-build --build --db $DBNAME\n",
    "\n",
    "# verify that the database was built correctly\n",
    "kraken2-inspect --db $DBNAME\n",
    "\n",
    "# clean the database to reduce disk usage\n",
    "# kraken2-build --clean --db $DBNAME"
   ]
  },
  {
   "cell_type": "markdown",
   "id": "a0ff4d12-5d31-4e27-941d-8d45915dd412",
   "metadata": {},
   "source": [
    "# Use the Kraken2 NTM/MTBC database and adjust the confidence parameter to tune accuracy\n",
    "\n",
    "## Compute the density of unfixed SNPs (maybe in essential genes only?) to determine accuracy. High = lots of NTM reads"
   ]
  },
  {
   "cell_type": "code",
   "execution_count": 68,
   "id": "05722379-deff-4435-a167-d6dc7ab5a0cd",
   "metadata": {},
   "outputs": [],
   "source": [
    "DBNAME = \"/n/scratch/users/s/sak0914/mycobacteriaceae\"\n",
    "\n",
    "input_dir = \"/n/data1/hms/dbmi/farhat/rollingDB/genomic_data\"\n",
    "output_dir = \"/n/scratch/users/s/sak0914/kraken_DB_tuning\"\n",
    "\n",
    "sample = \"HAPL_4JHX48QMO4685KC6\"\n",
    "\n",
    "FQ1 = f\"{input_dir}/{sample}/{sample}/fastp/{sample}.R1.trimmed.fastq.gz\"\n",
    "FQ2 = f\"{input_dir}/{sample}/{sample}/fastp/{sample}.R2.trimmed.fastq.gz\"\n",
    "\n",
    "kraken_report = f\"{output_dir}/{sample}/{sample}/kraken/kraken_NTM_MTBC_report.txt\"\n",
    "kraken_classifications = f\"{output_dir}/{sample}/{sample}/kraken/kraken_NTM_MTBC_classifications.txt\""
   ]
  },
  {
   "cell_type": "code",
   "execution_count": 80,
   "id": "5e5bbf38-e9e3-4b50-9eb7-2505cafaa35e",
   "metadata": {},
   "outputs": [],
   "source": [
    "df_kraken_classifications = pd.read_csv(kraken_classifications, sep='\\t', header=None)\n",
    "df_kraken_classifications.columns = ['Classified', 'ReadName', 'TaxID', 'Length', 'LCA']"
   ]
  },
  {
   "cell_type": "code",
   "execution_count": 105,
   "id": "5913ec31-c305-479b-959d-57078b19ca3d",
   "metadata": {},
   "outputs": [],
   "source": [
    "read_name = 'A01739:164:H7HNNDSXF:3:1576:19913:7138'\n",
    "\n",
    "read_seq = 'GTCTGTCGCGTGAGCGCGCGGGCCTCGAGGTTCGTGACGTGCACCCGTCGCACTACGGCCGGATGTGTCCGATCGAGACTCCTGAGGGTCCGAACATCGGTCTGATCGGGTCGTTGTCGGTGTACGCACGGGTCAACCCGTTCGGGTTCATCGAGACGC'"
   ]
  },
  {
   "cell_type": "code",
   "execution_count": 82,
   "id": "a11a523e-a422-49b1-a324-44c2de2db647",
   "metadata": {},
   "outputs": [
    {
     "data": {
      "text/plain": [
       "array(['1762:42 1763:2 1762:1 1763:5 1762:14 1763:1 1762:20 1763:1 1762:38 1763:1 |:| 1763:8 1762:3 1763:1 1762:9 141349:7 1762:9 141349:9 1762:1 141349:1 1762:9 1763:5 141349:2 1762:39 1763:1 1762:5 1763:16'],\n",
       "      dtype=object)"
      ]
     },
     "execution_count": 82,
     "metadata": {},
     "output_type": "execute_result"
    }
   ],
   "source": [
    "df_kraken_classifications.query(\"ReadName==@read_name\").LCA.values"
   ]
  },
  {
   "cell_type": "code",
   "execution_count": 89,
   "id": "a3d51f3f-330b-4203-8a4a-bea17bf0f48a",
   "metadata": {},
   "outputs": [
    {
     "data": {
      "text/html": [
       "<div>\n",
       "<style scoped>\n",
       "    .dataframe tbody tr th:only-of-type {\n",
       "        vertical-align: middle;\n",
       "    }\n",
       "\n",
       "    .dataframe tbody tr th {\n",
       "        vertical-align: top;\n",
       "    }\n",
       "\n",
       "    .dataframe thead th {\n",
       "        text-align: right;\n",
       "    }\n",
       "</style>\n",
       "<table border=\"1\" class=\"dataframe\">\n",
       "  <thead>\n",
       "    <tr style=\"text-align: right;\">\n",
       "      <th></th>\n",
       "      <th>Classified</th>\n",
       "      <th>ReadName</th>\n",
       "      <th>TaxID</th>\n",
       "      <th>Length</th>\n",
       "      <th>LCA</th>\n",
       "    </tr>\n",
       "  </thead>\n",
       "  <tbody>\n",
       "    <tr>\n",
       "      <th>994005</th>\n",
       "      <td>C</td>\n",
       "      <td>A01739:164:H7HNNDSXF:3:1576:19913:7138</td>\n",
       "      <td>1762</td>\n",
       "      <td>159|159</td>\n",
       "      <td>1762:42 1763:2 1762:1 1763:5 1762:14 1763:1 17...</td>\n",
       "    </tr>\n",
       "  </tbody>\n",
       "</table>\n",
       "</div>"
      ],
      "text/plain": [
       "       Classified                                ReadName  TaxID   Length  \\\n",
       "994005          C  A01739:164:H7HNNDSXF:3:1576:19913:7138   1762  159|159   \n",
       "\n",
       "                                                      LCA  \n",
       "994005  1762:42 1763:2 1762:1 1763:5 1762:14 1763:1 17...  "
      ]
     },
     "execution_count": 89,
     "metadata": {},
     "output_type": "execute_result"
    }
   ],
   "source": [
    "df_kraken_classifications.query(\"ReadName==@read_name\")"
   ]
  },
  {
   "cell_type": "code",
   "execution_count": 76,
   "id": "7fb7a0e2-17ea-41f3-9902-8ef4f26fa459",
   "metadata": {},
   "outputs": [
    {
     "data": {
      "text/plain": [
       "array(['1762:42 1763:2 1762:1 1763:5 1762:14 1763:1 1762:20 1763:1 1762:38 1763:1 |:| 1763:8 1762:3 1763:1 1762:9 141349:7 1762:9 141349:9 1762:1 141349:1 1762:9 1763:5 141349:2 1762:39 1763:1 1762:5 1763:16'],\n",
       "      dtype=object)"
      ]
     },
     "execution_count": 76,
     "metadata": {},
     "output_type": "execute_result"
    }
   ],
   "source": [
    "df_kraken_classifications.query(\"ReadName==@read_name\").LCA.values"
   ]
  },
  {
   "cell_type": "code",
   "execution_count": null,
   "id": "41599b02-e728-401c-a8d7-87f68ec1c672",
   "metadata": {},
   "outputs": [],
   "source": [
    "# blastn the FASTA file. -outfmt 6 is output in tabular format\n",
    "echo -e \">A01739:164:H7HNNDSXF:3:1576:19913:7138\\nGTCTGTCGCGTGAGCGCGCGGGCCTCGAGGTTCGTGACGTGCACCCGTCGCACTACGGCCGGATGTGTCCGATCGAGACTCCTGAGGGTCCGAACATCGGTCTGATCGGGTCGTTGTCGGTGTACGCACGGGTCAACCCGTTCGGGTTCATCGAGACGC\" | blastn -max_target_seqs 10 -task megablast -query - -db /n/scratch/users/s/sak0914/mycobacteriaceae_blast_DB/mycobacteriaceae_blast_DB -outfmt 6 -out /home/sak0914/result.txt"
   ]
  },
  {
   "cell_type": "code",
   "execution_count": 4,
   "id": "67a8198a-9fbf-4707-80e2-c39273111a6c",
   "metadata": {},
   "outputs": [],
   "source": [
    "blastn_columns = [\n",
    "    \"qseqid\",    # Query sequence ID\n",
    "    \"sseqid\",    # Subject (database) sequence ID\n",
    "    \"pident\",    # Percentage of identical matches\n",
    "    \"length\",    # Alignment length\n",
    "    \"mismatch\",  # Number of mismatches\n",
    "    \"gapopen\",   # Number of gap openings\n",
    "    \"qstart\",    # Start of alignment in query\n",
    "    \"qend\",      # End of alignment in query\n",
    "    \"sstart\",    # Start of alignment in subject\n",
    "    \"send\",      # End of alignment in subject\n",
    "    \"evalue\",    # Expectation value (E-value)\n",
    "    \"bitscore\"   # Bit score\n",
    "]"
   ]
  },
  {
   "cell_type": "code",
   "execution_count": 9,
   "id": "9b6e76bb-88b6-4868-a621-033785fe0c32",
   "metadata": {},
   "outputs": [
    {
     "name": "stdout",
     "output_type": "stream",
     "text": [
      "141349\n"
     ]
    }
   ],
   "source": [
    "# it's already sorted\n",
    "blast_result = pd.read_csv(\"/home/sak0914/result.txt\", sep=\"\\t\", header=None, names=blastn_columns).sort_values(\"bitscore\", ascending=False)\n",
    "\n",
    "blast_result['TaxID'] = blast_result['sseqid'].str.split('|').str[-1].astype(int)\n",
    "\n",
    "top_taxon = blast_result.TaxID.values[0]\n",
    "print(top_taxon)"
   ]
  },
  {
   "cell_type": "code",
   "execution_count": 11,
   "id": "2b051f57-7264-4b39-beca-1c3fd86a3312",
   "metadata": {},
   "outputs": [
    {
     "data": {
      "text/html": [
       "<div>\n",
       "<style scoped>\n",
       "    .dataframe tbody tr th:only-of-type {\n",
       "        vertical-align: middle;\n",
       "    }\n",
       "\n",
       "    .dataframe tbody tr th {\n",
       "        vertical-align: top;\n",
       "    }\n",
       "\n",
       "    .dataframe thead th {\n",
       "        text-align: right;\n",
       "    }\n",
       "</style>\n",
       "<table border=\"1\" class=\"dataframe\">\n",
       "  <thead>\n",
       "    <tr style=\"text-align: right;\">\n",
       "      <th></th>\n",
       "      <th>qseqid</th>\n",
       "      <th>sseqid</th>\n",
       "      <th>pident</th>\n",
       "      <th>length</th>\n",
       "      <th>mismatch</th>\n",
       "      <th>gapopen</th>\n",
       "      <th>qstart</th>\n",
       "      <th>qend</th>\n",
       "      <th>sstart</th>\n",
       "      <th>send</th>\n",
       "      <th>evalue</th>\n",
       "      <th>bitscore</th>\n",
       "      <th>TaxID</th>\n",
       "    </tr>\n",
       "  </thead>\n",
       "  <tbody>\n",
       "    <tr>\n",
       "      <th>0</th>\n",
       "      <td>A01739:164:H7HNNDSXF:3:1576:19913:7138</td>\n",
       "      <td>CP092423.2|kraken:taxid|141349</td>\n",
       "      <td>100.000</td>\n",
       "      <td>159</td>\n",
       "      <td>0</td>\n",
       "      <td>0</td>\n",
       "      <td>1</td>\n",
       "      <td>159</td>\n",
       "      <td>933184</td>\n",
       "      <td>933342</td>\n",
       "      <td>1.650000e-76</td>\n",
       "      <td>294</td>\n",
       "      <td>141349</td>\n",
       "    </tr>\n",
       "    <tr>\n",
       "      <th>1</th>\n",
       "      <td>A01739:164:H7HNNDSXF:3:1576:19913:7138</td>\n",
       "      <td>CTEE01000001.1|kraken:taxid|141349</td>\n",
       "      <td>100.000</td>\n",
       "      <td>159</td>\n",
       "      <td>0</td>\n",
       "      <td>0</td>\n",
       "      <td>1</td>\n",
       "      <td>159</td>\n",
       "      <td>1127957</td>\n",
       "      <td>1128115</td>\n",
       "      <td>1.650000e-76</td>\n",
       "      <td>294</td>\n",
       "      <td>141349</td>\n",
       "    </tr>\n",
       "    <tr>\n",
       "      <th>2</th>\n",
       "      <td>A01739:164:H7HNNDSXF:3:1576:19913:7138</td>\n",
       "      <td>FXEG02000002.1|kraken:taxid|1964395</td>\n",
       "      <td>97.484</td>\n",
       "      <td>159</td>\n",
       "      <td>4</td>\n",
       "      <td>0</td>\n",
       "      <td>1</td>\n",
       "      <td>159</td>\n",
       "      <td>423154</td>\n",
       "      <td>423312</td>\n",
       "      <td>7.730000e-70</td>\n",
       "      <td>272</td>\n",
       "      <td>1964395</td>\n",
       "    </tr>\n",
       "    <tr>\n",
       "      <th>3</th>\n",
       "      <td>A01739:164:H7HNNDSXF:3:1576:19913:7138</td>\n",
       "      <td>JBCHKV010000001.1|kraken:taxid|3142488</td>\n",
       "      <td>96.855</td>\n",
       "      <td>159</td>\n",
       "      <td>5</td>\n",
       "      <td>0</td>\n",
       "      <td>1</td>\n",
       "      <td>159</td>\n",
       "      <td>218276</td>\n",
       "      <td>218118</td>\n",
       "      <td>3.600000e-68</td>\n",
       "      <td>267</td>\n",
       "      <td>3142488</td>\n",
       "    </tr>\n",
       "    <tr>\n",
       "      <th>4</th>\n",
       "      <td>A01739:164:H7HNNDSXF:3:1576:19913:7138</td>\n",
       "      <td>JAZGLW010000001.1|kraken:taxid|3096112</td>\n",
       "      <td>96.855</td>\n",
       "      <td>159</td>\n",
       "      <td>5</td>\n",
       "      <td>0</td>\n",
       "      <td>1</td>\n",
       "      <td>159</td>\n",
       "      <td>599943</td>\n",
       "      <td>599785</td>\n",
       "      <td>3.600000e-68</td>\n",
       "      <td>267</td>\n",
       "      <td>3096112</td>\n",
       "    </tr>\n",
       "    <tr>\n",
       "      <th>5</th>\n",
       "      <td>A01739:164:H7HNNDSXF:3:1576:19913:7138</td>\n",
       "      <td>JACKVN010000013.1|kraken:taxid|292462</td>\n",
       "      <td>96.855</td>\n",
       "      <td>159</td>\n",
       "      <td>5</td>\n",
       "      <td>0</td>\n",
       "      <td>1</td>\n",
       "      <td>159</td>\n",
       "      <td>49216</td>\n",
       "      <td>49058</td>\n",
       "      <td>3.600000e-68</td>\n",
       "      <td>267</td>\n",
       "      <td>292462</td>\n",
       "    </tr>\n",
       "    <tr>\n",
       "      <th>6</th>\n",
       "      <td>A01739:164:H7HNNDSXF:3:1576:19913:7138</td>\n",
       "      <td>BQYH01000027.1|kraken:taxid|154654</td>\n",
       "      <td>96.855</td>\n",
       "      <td>159</td>\n",
       "      <td>5</td>\n",
       "      <td>0</td>\n",
       "      <td>1</td>\n",
       "      <td>159</td>\n",
       "      <td>367324</td>\n",
       "      <td>367482</td>\n",
       "      <td>3.600000e-68</td>\n",
       "      <td>267</td>\n",
       "      <td>154654</td>\n",
       "    </tr>\n",
       "    <tr>\n",
       "      <th>7</th>\n",
       "      <td>A01739:164:H7HNNDSXF:3:1576:19913:7138</td>\n",
       "      <td>BQYG01000056.1|kraken:taxid|154654</td>\n",
       "      <td>96.855</td>\n",
       "      <td>159</td>\n",
       "      <td>5</td>\n",
       "      <td>0</td>\n",
       "      <td>1</td>\n",
       "      <td>159</td>\n",
       "      <td>367356</td>\n",
       "      <td>367514</td>\n",
       "      <td>3.600000e-68</td>\n",
       "      <td>267</td>\n",
       "      <td>154654</td>\n",
       "    </tr>\n",
       "    <tr>\n",
       "      <th>8</th>\n",
       "      <td>A01739:164:H7HNNDSXF:3:1576:19913:7138</td>\n",
       "      <td>BQYF01000131.1|kraken:taxid|154654</td>\n",
       "      <td>96.855</td>\n",
       "      <td>159</td>\n",
       "      <td>5</td>\n",
       "      <td>0</td>\n",
       "      <td>1</td>\n",
       "      <td>159</td>\n",
       "      <td>132456</td>\n",
       "      <td>132614</td>\n",
       "      <td>3.600000e-68</td>\n",
       "      <td>267</td>\n",
       "      <td>154654</td>\n",
       "    </tr>\n",
       "    <tr>\n",
       "      <th>9</th>\n",
       "      <td>A01739:164:H7HNNDSXF:3:1576:19913:7138</td>\n",
       "      <td>BQYE01000035.1|kraken:taxid|154654</td>\n",
       "      <td>96.855</td>\n",
       "      <td>159</td>\n",
       "      <td>5</td>\n",
       "      <td>0</td>\n",
       "      <td>1</td>\n",
       "      <td>159</td>\n",
       "      <td>132469</td>\n",
       "      <td>132627</td>\n",
       "      <td>3.600000e-68</td>\n",
       "      <td>267</td>\n",
       "      <td>154654</td>\n",
       "    </tr>\n",
       "  </tbody>\n",
       "</table>\n",
       "</div>"
      ],
      "text/plain": [
       "                                   qseqid  \\\n",
       "0  A01739:164:H7HNNDSXF:3:1576:19913:7138   \n",
       "1  A01739:164:H7HNNDSXF:3:1576:19913:7138   \n",
       "2  A01739:164:H7HNNDSXF:3:1576:19913:7138   \n",
       "3  A01739:164:H7HNNDSXF:3:1576:19913:7138   \n",
       "4  A01739:164:H7HNNDSXF:3:1576:19913:7138   \n",
       "5  A01739:164:H7HNNDSXF:3:1576:19913:7138   \n",
       "6  A01739:164:H7HNNDSXF:3:1576:19913:7138   \n",
       "7  A01739:164:H7HNNDSXF:3:1576:19913:7138   \n",
       "8  A01739:164:H7HNNDSXF:3:1576:19913:7138   \n",
       "9  A01739:164:H7HNNDSXF:3:1576:19913:7138   \n",
       "\n",
       "                                   sseqid   pident  length  mismatch  gapopen  \\\n",
       "0          CP092423.2|kraken:taxid|141349  100.000     159         0        0   \n",
       "1      CTEE01000001.1|kraken:taxid|141349  100.000     159         0        0   \n",
       "2     FXEG02000002.1|kraken:taxid|1964395   97.484     159         4        0   \n",
       "3  JBCHKV010000001.1|kraken:taxid|3142488   96.855     159         5        0   \n",
       "4  JAZGLW010000001.1|kraken:taxid|3096112   96.855     159         5        0   \n",
       "5   JACKVN010000013.1|kraken:taxid|292462   96.855     159         5        0   \n",
       "6      BQYH01000027.1|kraken:taxid|154654   96.855     159         5        0   \n",
       "7      BQYG01000056.1|kraken:taxid|154654   96.855     159         5        0   \n",
       "8      BQYF01000131.1|kraken:taxid|154654   96.855     159         5        0   \n",
       "9      BQYE01000035.1|kraken:taxid|154654   96.855     159         5        0   \n",
       "\n",
       "   qstart  qend   sstart     send        evalue  bitscore    TaxID  \n",
       "0       1   159   933184   933342  1.650000e-76       294   141349  \n",
       "1       1   159  1127957  1128115  1.650000e-76       294   141349  \n",
       "2       1   159   423154   423312  7.730000e-70       272  1964395  \n",
       "3       1   159   218276   218118  3.600000e-68       267  3142488  \n",
       "4       1   159   599943   599785  3.600000e-68       267  3096112  \n",
       "5       1   159    49216    49058  3.600000e-68       267   292462  \n",
       "6       1   159   367324   367482  3.600000e-68       267   154654  \n",
       "7       1   159   367356   367514  3.600000e-68       267   154654  \n",
       "8       1   159   132456   132614  3.600000e-68       267   154654  \n",
       "9       1   159   132469   132627  3.600000e-68       267   154654  "
      ]
     },
     "execution_count": 11,
     "metadata": {},
     "output_type": "execute_result"
    }
   ],
   "source": [
    "blast_result"
   ]
  },
  {
   "cell_type": "code",
   "execution_count": null,
   "id": "d8caf393-a6ea-4abb-9e28-ed0dc94554e3",
   "metadata": {},
   "outputs": [],
   "source": [
    "cut -f1 /n/scratch/users/s/sak0914/kraken_DB_tuning/HAPL_4JHX48QMO4685KC6/HAPL_4JHX48QMO4685KC6/BLAST/hits.tsv | sort | uniq | wc -l\n"
   ]
  },
  {
   "cell_type": "code",
   "execution_count": 18,
   "id": "d6716052-a2d5-439d-b324-658b8b49db7a",
   "metadata": {},
   "outputs": [
    {
     "name": "stdout",
     "output_type": "stream",
     "text": [
      "552289\n"
     ]
    }
   ],
   "source": [
    "blast_result_full = pd.read_csv(\"/n/scratch/users/s/sak0914/kraken_DB_tuning/HAPL_4JHX48QMO4685KC6/HAPL_4JHX48QMO4685KC6/BLAST/hits.tsv\", sep='\\t', header=None, names= blastn_columns).sort_values(\"bitscore\", ascending=False)\n",
    "\n",
    "blast_result_full['TaxID'] = blast_result_full['sseqid'].str.split('|').str[-1].astype(int)\n",
    "\n",
    "# need to do 550k total\n",
    "print(blast_result_full.qseqid.nunique())"
   ]
  },
  {
   "cell_type": "code",
   "execution_count": 19,
   "id": "0f7433a8-7749-4bfc-a2bc-d8caf589ff3f",
   "metadata": {},
   "outputs": [],
   "source": [
    "top_taxon_per_read = blast_result_full.drop_duplicates('qseqid')[['qseqid', 'TaxID']]"
   ]
  },
  {
   "cell_type": "code",
   "execution_count": 21,
   "id": "8a34aa11-7ca3-4c6d-8a2e-e2b2a18b2bbf",
   "metadata": {},
   "outputs": [
    {
     "data": {
      "text/html": [
       "<div>\n",
       "<style scoped>\n",
       "    .dataframe tbody tr th:only-of-type {\n",
       "        vertical-align: middle;\n",
       "    }\n",
       "\n",
       "    .dataframe tbody tr th {\n",
       "        vertical-align: top;\n",
       "    }\n",
       "\n",
       "    .dataframe thead th {\n",
       "        text-align: right;\n",
       "    }\n",
       "</style>\n",
       "<table border=\"1\" class=\"dataframe\">\n",
       "  <thead>\n",
       "    <tr style=\"text-align: right;\">\n",
       "      <th></th>\n",
       "      <th>qseqid</th>\n",
       "      <th>TaxID</th>\n",
       "    </tr>\n",
       "  </thead>\n",
       "  <tbody>\n",
       "    <tr>\n",
       "      <th>0</th>\n",
       "      <td>A01739:164:H7HNNDSXF:3:1101:14760:1063</td>\n",
       "      <td>1773</td>\n",
       "    </tr>\n",
       "    <tr>\n",
       "      <th>3529072</th>\n",
       "      <td>A01739:164:H7HNNDSXF:3:2130:28800:22999</td>\n",
       "      <td>1773</td>\n",
       "    </tr>\n",
       "    <tr>\n",
       "      <th>3529078</th>\n",
       "      <td>A01739:164:H7HNNDSXF:3:2130:25880:23015</td>\n",
       "      <td>1773</td>\n",
       "    </tr>\n",
       "    <tr>\n",
       "      <th>3529086</th>\n",
       "      <td>A01739:164:H7HNNDSXF:3:2130:29803:23109</td>\n",
       "      <td>1773</td>\n",
       "    </tr>\n",
       "    <tr>\n",
       "      <th>3529097</th>\n",
       "      <td>A01739:164:H7HNNDSXF:3:2130:31928:23124</td>\n",
       "      <td>1773</td>\n",
       "    </tr>\n",
       "    <tr>\n",
       "      <th>...</th>\n",
       "      <td>...</td>\n",
       "      <td>...</td>\n",
       "    </tr>\n",
       "    <tr>\n",
       "      <th>4436043</th>\n",
       "      <td>A01739:164:H7HNNDSXF:3:2325:12210:32409</td>\n",
       "      <td>1773</td>\n",
       "    </tr>\n",
       "    <tr>\n",
       "      <th>4762916</th>\n",
       "      <td>A01739:164:H7HNNDSXF:3:2403:21730:9157</td>\n",
       "      <td>1773</td>\n",
       "    </tr>\n",
       "    <tr>\n",
       "      <th>1946439</th>\n",
       "      <td>A01739:164:H7HNNDSXF:3:1428:26042:35571</td>\n",
       "      <td>1773</td>\n",
       "    </tr>\n",
       "    <tr>\n",
       "      <th>4698922</th>\n",
       "      <td>A01739:164:H7HNNDSXF:3:2370:23068:11130</td>\n",
       "      <td>1773</td>\n",
       "    </tr>\n",
       "    <tr>\n",
       "      <th>5042866</th>\n",
       "      <td>A01739:164:H7HNNDSXF:3:2451:5321:34757</td>\n",
       "      <td>1773</td>\n",
       "    </tr>\n",
       "  </tbody>\n",
       "</table>\n",
       "<p>484092 rows × 2 columns</p>\n",
       "</div>"
      ],
      "text/plain": [
       "                                          qseqid  TaxID\n",
       "0         A01739:164:H7HNNDSXF:3:1101:14760:1063   1773\n",
       "3529072  A01739:164:H7HNNDSXF:3:2130:28800:22999   1773\n",
       "3529078  A01739:164:H7HNNDSXF:3:2130:25880:23015   1773\n",
       "3529086  A01739:164:H7HNNDSXF:3:2130:29803:23109   1773\n",
       "3529097  A01739:164:H7HNNDSXF:3:2130:31928:23124   1773\n",
       "...                                          ...    ...\n",
       "4436043  A01739:164:H7HNNDSXF:3:2325:12210:32409   1773\n",
       "4762916   A01739:164:H7HNNDSXF:3:2403:21730:9157   1773\n",
       "1946439  A01739:164:H7HNNDSXF:3:1428:26042:35571   1773\n",
       "4698922  A01739:164:H7HNNDSXF:3:2370:23068:11130   1773\n",
       "5042866   A01739:164:H7HNNDSXF:3:2451:5321:34757   1773\n",
       "\n",
       "[484092 rows x 2 columns]"
      ]
     },
     "execution_count": 21,
     "metadata": {},
     "output_type": "execute_result"
    }
   ],
   "source": [
    "top_taxon_per_read.query(\"TaxID in [77643, 1773]\")"
   ]
  },
  {
   "cell_type": "code",
   "execution_count": 31,
   "id": "17391762-c48c-4a60-89dd-f55c4ec84313",
   "metadata": {},
   "outputs": [
    {
     "data": {
      "text/plain": [
       "3296"
      ]
     },
     "execution_count": 31,
     "metadata": {},
     "output_type": "execute_result"
    }
   ],
   "source": [
    "def load_nodes_dmp(nodes_path):\n",
    "    parent_map = {}\n",
    "    child_map = {}\n",
    "    with open(nodes_path, 'r') as f:\n",
    "        for line in f:\n",
    "            parts = [x.strip() for x in line.split('|')]\n",
    "            child_taxid, parent_taxid = int(parts[0]), int(parts[1])\n",
    "            parent_map[child_taxid] = parent_taxid\n",
    "            if parent_taxid not in child_map:\n",
    "                child_map[parent_taxid] = []\n",
    "            child_map[parent_taxid].append(child_taxid)\n",
    "    return parent_map, child_map\n",
    "    \n",
    "\n",
    "    \n",
    "def get_child_taxids(taxid, child_map):\n",
    "    descendants = []\n",
    "    stack = [taxid]\n",
    "    while stack:\n",
    "        current = stack.pop()\n",
    "        children = child_map.get(current, [])\n",
    "        descendants.extend(children)\n",
    "        stack.extend(children)\n",
    "    return descendants\n",
    "\n",
    "\n",
    "# analyze taxonomy map \n",
    "db_name = \"/n/scratch/users/s/sak0914/mycobacteriaceae\"\n",
    "parent_map, child_map = load_nodes_dmp(f\"{db_name}/taxonomy/nodes.dmp\")\n",
    "\n",
    "# use the functionss to get all taxids\n",
    "child_taxids = get_child_taxids(77643, child_map)\n",
    "len(child_taxids)"
   ]
  },
  {
   "cell_type": "code",
   "execution_count": 33,
   "id": "1f20641d-a0ac-4952-a190-9d928f86e0da",
   "metadata": {},
   "outputs": [],
   "source": [
    "top_taxon_per_read.query(\"TaxID in @child_taxids\")['qseqid'].drop_duplicates().to_csv(\"/n/scratch/users/s/sak0914/kraken_DB_tuning/HAPL_4JHX48QMO4685KC6/HAPL_4JHX48QMO4685KC6/BLAST/MTBC_read_names.txt\", sep='\\t', header=None, index=False)"
   ]
  },
  {
   "cell_type": "code",
   "execution_count": null,
   "id": "dd33a1a4-8fe0-4286-846c-04290afb1f0b",
   "metadata": {},
   "outputs": [],
   "source": [
    "/n/data1/hms/dbmi/farhat/rollingDB/genomic_data/HAPL_4JHX48QMO4685KC6/HAPL_4JHX48QMO4685KC6/fastp/HAPL_4JHX48QMO4685KC6.R1.trimmed.fastq.gz"
   ]
  },
  {
   "cell_type": "code",
   "execution_count": null,
   "id": "23de023a-a1ca-4f90-92d4-03f26a95210b",
   "metadata": {},
   "outputs": [],
   "source": [
    "cat <(seqtk subseq /n/data1/hms/dbmi/farhat/rollingDB/genomic_data/HAPL_4JHX48QMO4685KC6/HAPL_4JHX48QMO4685KC6/fastp/HAPL_4JHX48QMO4685KC6.R2.trimmed.fastq.gz /n/scratch/users/s/sak0914/kraken_DB_tuning/HAPL_4JHX48QMO4685KC6/HAPL_4JHX48QMO4685KC6/kraken/MTBC_read_names.txt) <(seqtk subseq /n/data1/hms/dbmi/farhat/rollingDB/genomic_data/HAPL_4JHX48QMO4685KC6/HAPL_4JHX48QMO4685KC6/fastp/HAPL_4JHX48QMO4685KC6.R2.trimmed.fastq.gz /n/scratch/users/s/sak0914/kraken_DB_tuning/HAPL_4JHX48QMO4685KC6/HAPL_4JHX48QMO4685KC6/BLAST/MTBC_read_names.txt) > /n/scratch/users/s/sak0914/kraken_DB_tuning/HAPL_4JHX48QMO4685KC6/HAPL_4JHX48QMO4685KC6/bam/HAPL_4JHX48QMO4685KC6.R2.MTBC.fastq"
   ]
  },
  {
   "cell_type": "code",
   "execution_count": 2,
   "id": "46535fc9-2022-478f-af03-808e6b8eb72c",
   "metadata": {},
   "outputs": [],
   "source": [
    "import pandas as pd"
   ]
  },
  {
   "cell_type": "code",
   "execution_count": 29,
   "id": "606c1373-781d-4934-b15c-49d2bd218427",
   "metadata": {},
   "outputs": [],
   "source": [
    "df_depth = pd.read_csv(\"/n/scratch/users/s/sak0914/kraken_DB_tuning/HAPL_4JHX48QMO4685KC6/bam/HAPL_4JHX48QMO4685KC6.depth.tsv.gz\", compression='gzip', header=None, sep='\\t')\n",
    "# df_depth = pd.read_csv(\"/n/data1/hms/dbmi/farhat/rollingDB/genomic_data/HAPL_4JHX48QMO4685KC6/bam/HAPL_4JHX48QMO4685KC6.depth.tsv.gz\", compression='gzip', header=None, sep='\\t')"
   ]
  },
  {
   "cell_type": "code",
   "execution_count": 30,
   "id": "2ba5e5bc-b039-4d5e-bf04-a610f61881e3",
   "metadata": {},
   "outputs": [
    {
     "data": {
      "text/plain": [
       "(31.0, 31.1845352136174)"
      ]
     },
     "execution_count": 30,
     "metadata": {},
     "output_type": "execute_result"
    }
   ],
   "source": [
    "df_depth[2].median(), df_depth[2].mean()"
   ]
  },
  {
   "cell_type": "code",
   "execution_count": 31,
   "id": "d894d184-b6f2-4d90-ae88-2668293de752",
   "metadata": {},
   "outputs": [
    {
     "data": {
      "text/plain": [
       "0.9642044985732847"
      ]
     },
     "execution_count": 31,
     "metadata": {},
     "output_type": "execute_result"
    }
   ],
   "source": [
    "len(df_depth.loc[df_depth[2] >= 10]) / len(df_depth)"
   ]
  },
  {
   "cell_type": "code",
   "execution_count": 21,
   "id": "cda3059a-90ae-46be-8200-42ec7aa21f66",
   "metadata": {},
   "outputs": [],
   "source": [
    "df_variants = pd.read_csv(\"/n/scratch/users/s/sak0914/kraken_DB_tuning/HAPL_4JHX48QMO4685KC6/WHO_resistance/HAPL_4JHX48QMO4685KC6_variants_annot.tsv\", sep='\\t')"
   ]
  },
  {
   "cell_type": "code",
   "execution_count": 22,
   "id": "11943f36-07ef-4b9e-927a-54dfbacab947",
   "metadata": {},
   "outputs": [
    {
     "data": {
      "text/html": [
       "<div>\n",
       "<style scoped>\n",
       "    .dataframe tbody tr th:only-of-type {\n",
       "        vertical-align: middle;\n",
       "    }\n",
       "\n",
       "    .dataframe tbody tr th {\n",
       "        vertical-align: top;\n",
       "    }\n",
       "\n",
       "    .dataframe thead th {\n",
       "        text-align: right;\n",
       "    }\n",
       "</style>\n",
       "<table border=\"1\" class=\"dataframe\">\n",
       "  <thead>\n",
       "    <tr style=\"text-align: right;\">\n",
       "      <th></th>\n",
       "      <th>POS</th>\n",
       "      <th>REF</th>\n",
       "      <th>ALT</th>\n",
       "      <th>FILTER</th>\n",
       "      <th>QUAL</th>\n",
       "      <th>IMPRECISE</th>\n",
       "      <th>AF</th>\n",
       "      <th>DP</th>\n",
       "      <th>BQ</th>\n",
       "      <th>MQ</th>\n",
       "      <th>IC</th>\n",
       "      <th>DC</th>\n",
       "      <th>EFFECT</th>\n",
       "      <th>GENE</th>\n",
       "      <th>HGVS_C</th>\n",
       "      <th>HGVS_P</th>\n",
       "      <th>variant</th>\n",
       "      <th>drug</th>\n",
       "      <th>confidence</th>\n",
       "    </tr>\n",
       "  </thead>\n",
       "  <tbody>\n",
       "    <tr>\n",
       "      <th>57</th>\n",
       "      <td>2155168</td>\n",
       "      <td>C</td>\n",
       "      <td>G</td>\n",
       "      <td>PASS</td>\n",
       "      <td>1037.0</td>\n",
       "      <td>False</td>\n",
       "      <td>1.0</td>\n",
       "      <td>29</td>\n",
       "      <td>36</td>\n",
       "      <td>60</td>\n",
       "      <td>0</td>\n",
       "      <td>0</td>\n",
       "      <td>missense_variant</td>\n",
       "      <td>katG</td>\n",
       "      <td>c.944G&gt;C</td>\n",
       "      <td>p.Ser315Thr</td>\n",
       "      <td>katG_p.Ser315Thr</td>\n",
       "      <td>Isoniazid</td>\n",
       "      <td>1) Assoc w R</td>\n",
       "    </tr>\n",
       "  </tbody>\n",
       "</table>\n",
       "</div>"
      ],
      "text/plain": [
       "        POS REF ALT FILTER    QUAL  IMPRECISE   AF  DP  BQ  MQ  IC  DC  \\\n",
       "57  2155168   C   G   PASS  1037.0      False  1.0  29  36  60   0   0   \n",
       "\n",
       "              EFFECT  GENE    HGVS_C       HGVS_P           variant  \\\n",
       "57  missense_variant  katG  c.944G>C  p.Ser315Thr  katG_p.Ser315Thr   \n",
       "\n",
       "         drug    confidence  \n",
       "57  Isoniazid  1) Assoc w R  "
      ]
     },
     "execution_count": 22,
     "metadata": {},
     "output_type": "execute_result"
    }
   ],
   "source": [
    "df_variants.query(\"confidence in ['1) Assoc w R', '2) Assoc w R - Interim']\")"
   ]
  },
  {
   "cell_type": "code",
   "execution_count": 26,
   "id": "3fb4cf29-21b4-46fc-8dd9-f0812ae7dee8",
   "metadata": {},
   "outputs": [
    {
     "data": {
      "text/html": [
       "<div>\n",
       "<style scoped>\n",
       "    .dataframe tbody tr th:only-of-type {\n",
       "        vertical-align: middle;\n",
       "    }\n",
       "\n",
       "    .dataframe tbody tr th {\n",
       "        vertical-align: top;\n",
       "    }\n",
       "\n",
       "    .dataframe thead th {\n",
       "        text-align: right;\n",
       "    }\n",
       "</style>\n",
       "<table border=\"1\" class=\"dataframe\">\n",
       "  <thead>\n",
       "    <tr style=\"text-align: right;\">\n",
       "      <th></th>\n",
       "      <th>POS</th>\n",
       "      <th>REF</th>\n",
       "      <th>ALT</th>\n",
       "      <th>FILTER</th>\n",
       "      <th>QUAL</th>\n",
       "      <th>IMPRECISE</th>\n",
       "      <th>AF</th>\n",
       "      <th>DP</th>\n",
       "      <th>BQ</th>\n",
       "      <th>MQ</th>\n",
       "      <th>IC</th>\n",
       "      <th>DC</th>\n",
       "      <th>EFFECT</th>\n",
       "      <th>GENE</th>\n",
       "      <th>HGVS_C</th>\n",
       "      <th>HGVS_P</th>\n",
       "      <th>variant</th>\n",
       "      <th>drug</th>\n",
       "      <th>confidence</th>\n",
       "    </tr>\n",
       "  </thead>\n",
       "  <tbody>\n",
       "    <tr>\n",
       "      <th>4</th>\n",
       "      <td>7362</td>\n",
       "      <td>G</td>\n",
       "      <td>C</td>\n",
       "      <td>PASS</td>\n",
       "      <td>925.0</td>\n",
       "      <td>False</td>\n",
       "      <td>1.00</td>\n",
       "      <td>25</td>\n",
       "      <td>37</td>\n",
       "      <td>60</td>\n",
       "      <td>0</td>\n",
       "      <td>0</td>\n",
       "      <td>missense_variant</td>\n",
       "      <td>gyrA</td>\n",
       "      <td>c.61G&gt;C</td>\n",
       "      <td>p.Glu21Gln</td>\n",
       "      <td>gyrA_p.Glu21Gln</td>\n",
       "      <td>Levofloxacin</td>\n",
       "      <td>5) Not assoc w R</td>\n",
       "    </tr>\n",
       "    <tr>\n",
       "      <th>6</th>\n",
       "      <td>7585</td>\n",
       "      <td>G</td>\n",
       "      <td>C</td>\n",
       "      <td>PASS</td>\n",
       "      <td>1257.0</td>\n",
       "      <td>False</td>\n",
       "      <td>1.00</td>\n",
       "      <td>35</td>\n",
       "      <td>36</td>\n",
       "      <td>60</td>\n",
       "      <td>0</td>\n",
       "      <td>0</td>\n",
       "      <td>missense_variant</td>\n",
       "      <td>gyrA</td>\n",
       "      <td>c.284G&gt;C</td>\n",
       "      <td>p.Ser95Thr</td>\n",
       "      <td>gyrA_p.Ser95Thr</td>\n",
       "      <td>Levofloxacin</td>\n",
       "      <td>5) Not assoc w R</td>\n",
       "    </tr>\n",
       "    <tr>\n",
       "      <th>8</th>\n",
       "      <td>8452</td>\n",
       "      <td>C</td>\n",
       "      <td>T</td>\n",
       "      <td>PASS</td>\n",
       "      <td>1078.0</td>\n",
       "      <td>False</td>\n",
       "      <td>1.00</td>\n",
       "      <td>34</td>\n",
       "      <td>36</td>\n",
       "      <td>60</td>\n",
       "      <td>0</td>\n",
       "      <td>2</td>\n",
       "      <td>missense_variant</td>\n",
       "      <td>gyrA</td>\n",
       "      <td>c.1151C&gt;T</td>\n",
       "      <td>p.Ala384Val</td>\n",
       "      <td>gyrA_p.Ala384Val</td>\n",
       "      <td>Levofloxacin</td>\n",
       "      <td>5) Not assoc w R</td>\n",
       "    </tr>\n",
       "    <tr>\n",
       "      <th>10</th>\n",
       "      <td>8668</td>\n",
       "      <td>C</td>\n",
       "      <td>T</td>\n",
       "      <td>PASS</td>\n",
       "      <td>803.0</td>\n",
       "      <td>False</td>\n",
       "      <td>0.99</td>\n",
       "      <td>25</td>\n",
       "      <td>34</td>\n",
       "      <td>60</td>\n",
       "      <td>0</td>\n",
       "      <td>0</td>\n",
       "      <td>missense_variant</td>\n",
       "      <td>gyrA</td>\n",
       "      <td>c.1367C&gt;T</td>\n",
       "      <td>p.Ala456Val</td>\n",
       "      <td>gyrA_p.Ala456Val</td>\n",
       "      <td>Levofloxacin</td>\n",
       "      <td>3) Uncertain significance</td>\n",
       "    </tr>\n",
       "    <tr>\n",
       "      <th>12</th>\n",
       "      <td>9143</td>\n",
       "      <td>T</td>\n",
       "      <td>C</td>\n",
       "      <td>PASS</td>\n",
       "      <td>1554.0</td>\n",
       "      <td>False</td>\n",
       "      <td>1.00</td>\n",
       "      <td>42</td>\n",
       "      <td>37</td>\n",
       "      <td>60</td>\n",
       "      <td>0</td>\n",
       "      <td>0</td>\n",
       "      <td>synonymous_variant</td>\n",
       "      <td>gyrA</td>\n",
       "      <td>c.1842T&gt;C</td>\n",
       "      <td>p.Ile614Ile</td>\n",
       "      <td>gyrA_c.1842T&gt;C</td>\n",
       "      <td>Levofloxacin</td>\n",
       "      <td>5) Not assoc w R</td>\n",
       "    </tr>\n",
       "    <tr>\n",
       "      <th>14</th>\n",
       "      <td>9304</td>\n",
       "      <td>G</td>\n",
       "      <td>A</td>\n",
       "      <td>PASS</td>\n",
       "      <td>1554.0</td>\n",
       "      <td>False</td>\n",
       "      <td>1.00</td>\n",
       "      <td>44</td>\n",
       "      <td>35</td>\n",
       "      <td>60</td>\n",
       "      <td>0</td>\n",
       "      <td>0</td>\n",
       "      <td>missense_variant</td>\n",
       "      <td>gyrA</td>\n",
       "      <td>c.2003G&gt;A</td>\n",
       "      <td>p.Gly668Asp</td>\n",
       "      <td>gyrA_p.Gly668Asp</td>\n",
       "      <td>Levofloxacin</td>\n",
       "      <td>5) Not assoc w R</td>\n",
       "    </tr>\n",
       "  </tbody>\n",
       "</table>\n",
       "</div>"
      ],
      "text/plain": [
       "     POS REF ALT FILTER    QUAL  IMPRECISE    AF  DP  BQ  MQ  IC  DC  \\\n",
       "4   7362   G   C   PASS   925.0      False  1.00  25  37  60   0   0   \n",
       "6   7585   G   C   PASS  1257.0      False  1.00  35  36  60   0   0   \n",
       "8   8452   C   T   PASS  1078.0      False  1.00  34  36  60   0   2   \n",
       "10  8668   C   T   PASS   803.0      False  0.99  25  34  60   0   0   \n",
       "12  9143   T   C   PASS  1554.0      False  1.00  42  37  60   0   0   \n",
       "14  9304   G   A   PASS  1554.0      False  1.00  44  35  60   0   0   \n",
       "\n",
       "                EFFECT  GENE     HGVS_C       HGVS_P           variant  \\\n",
       "4     missense_variant  gyrA    c.61G>C   p.Glu21Gln   gyrA_p.Glu21Gln   \n",
       "6     missense_variant  gyrA   c.284G>C   p.Ser95Thr   gyrA_p.Ser95Thr   \n",
       "8     missense_variant  gyrA  c.1151C>T  p.Ala384Val  gyrA_p.Ala384Val   \n",
       "10    missense_variant  gyrA  c.1367C>T  p.Ala456Val  gyrA_p.Ala456Val   \n",
       "12  synonymous_variant  gyrA  c.1842T>C  p.Ile614Ile    gyrA_c.1842T>C   \n",
       "14    missense_variant  gyrA  c.2003G>A  p.Gly668Asp  gyrA_p.Gly668Asp   \n",
       "\n",
       "            drug                 confidence  \n",
       "4   Levofloxacin           5) Not assoc w R  \n",
       "6   Levofloxacin           5) Not assoc w R  \n",
       "8   Levofloxacin           5) Not assoc w R  \n",
       "10  Levofloxacin  3) Uncertain significance  \n",
       "12  Levofloxacin           5) Not assoc w R  \n",
       "14  Levofloxacin           5) Not assoc w R  "
      ]
     },
     "execution_count": 26,
     "metadata": {},
     "output_type": "execute_result"
    }
   ],
   "source": [
    "df_variants.query(\"GENE=='gyrA'\").drop_duplicates('variant')"
   ]
  },
  {
   "cell_type": "code",
   "execution_count": 32,
   "id": "0835218d-6ef7-4c66-ade1-bfbedb3e5d0e",
   "metadata": {},
   "outputs": [],
   "source": [
    "df_WGS = pd.read_csv(\"/n/data1/hms/dbmi/farhat/rollingDB/TRUST/Illumina_culture_WGS_summary.csv\")"
   ]
  },
  {
   "cell_type": "code",
   "execution_count": 46,
   "id": "539624c3-91d6-4b9e-92b1-2ae2e00d8377",
   "metadata": {},
   "outputs": [
    {
     "name": "stdout",
     "output_type": "stream",
     "text": [
      "6\n"
     ]
    }
   ],
   "source": [
    "df_run = df_WGS.query(\"Kraken_Unclassified_Percent >= 5 & Kraken_Unclassified_Percent <= 20\")[['SampleID', 'SampleID']]\n",
    "df_run['FQ'] = 0\n",
    "print(len(df_run))\n",
    "df_run.to_csv(\"/home/sak0914/Mtb_Megapipe/isolates_to_run_kraken.tsv\", sep='\\t', header=None, index=False)"
   ]
  },
  {
   "cell_type": "code",
   "execution_count": 48,
   "id": "fa4bc0e7-1659-4cc9-a9f3-a21015e5ba26",
   "metadata": {},
   "outputs": [
    {
     "data": {
      "text/html": [
       "<div>\n",
       "<style scoped>\n",
       "    .dataframe tbody tr th:only-of-type {\n",
       "        vertical-align: middle;\n",
       "    }\n",
       "\n",
       "    .dataframe tbody tr th {\n",
       "        vertical-align: top;\n",
       "    }\n",
       "\n",
       "    .dataframe thead th {\n",
       "        text-align: right;\n",
       "    }\n",
       "</style>\n",
       "<table border=\"1\" class=\"dataframe\">\n",
       "  <thead>\n",
       "    <tr style=\"text-align: right;\">\n",
       "      <th></th>\n",
       "      <th>SampleID</th>\n",
       "      <th>Kraken_Unclassified_Percent</th>\n",
       "      <th>Mean_Depth</th>\n",
       "      <th>Median_Depth</th>\n",
       "      <th>Perc_Sites_10x</th>\n",
       "      <th>Perc_Sites_20x</th>\n",
       "      <th>F2</th>\n",
       "      <th>Coll2014</th>\n",
       "      <th>Freschi2020</th>\n",
       "      <th>Lipworth2019</th>\n",
       "      <th>Shitikov2017</th>\n",
       "      <th>Stucki2016</th>\n",
       "      <th>Lineage</th>\n",
       "      <th>Freschi_Lineage_1</th>\n",
       "      <th>Freschi_Lineage_2</th>\n",
       "      <th>Culture_Mixed_Infection</th>\n",
       "    </tr>\n",
       "  </thead>\n",
       "  <tbody>\n",
       "    <tr>\n",
       "      <th>43</th>\n",
       "      <td>MFS-138</td>\n",
       "      <td>7.09</td>\n",
       "      <td>292.666505</td>\n",
       "      <td>300.0</td>\n",
       "      <td>98.507775</td>\n",
       "      <td>98.362814</td>\n",
       "      <td>0.010892</td>\n",
       "      <td>2.2.1.1</td>\n",
       "      <td>2.2.1.1.1</td>\n",
       "      <td>beijing</td>\n",
       "      <td>lin2.2.1,pacific_RD150</td>\n",
       "      <td>NaN</td>\n",
       "      <td>2</td>\n",
       "      <td>2.2.1.1.1</td>\n",
       "      <td>NaN</td>\n",
       "      <td>0</td>\n",
       "    </tr>\n",
       "    <tr>\n",
       "      <th>98</th>\n",
       "      <td>MFS-188</td>\n",
       "      <td>17.48</td>\n",
       "      <td>233.911604</td>\n",
       "      <td>239.0</td>\n",
       "      <td>98.437935</td>\n",
       "      <td>98.264072</td>\n",
       "      <td>0.011793</td>\n",
       "      <td>2.2.1</td>\n",
       "      <td>2.2.1.1.1</td>\n",
       "      <td>beijing</td>\n",
       "      <td>lin2.2.1,asian_african_2</td>\n",
       "      <td>NaN</td>\n",
       "      <td>2</td>\n",
       "      <td>2.2.1.1.1</td>\n",
       "      <td>NaN</td>\n",
       "      <td>0</td>\n",
       "    </tr>\n",
       "    <tr>\n",
       "      <th>232</th>\n",
       "      <td>MFS-366</td>\n",
       "      <td>13.22</td>\n",
       "      <td>312.759877</td>\n",
       "      <td>316.0</td>\n",
       "      <td>98.901175</td>\n",
       "      <td>98.767186</td>\n",
       "      <td>0.007009</td>\n",
       "      <td>4.8</td>\n",
       "      <td>4.2.1.1.1.1.1.1.i1</td>\n",
       "      <td>NaN</td>\n",
       "      <td>NaN</td>\n",
       "      <td>4.10/PGG3</td>\n",
       "      <td>4</td>\n",
       "      <td>4.2.1.1.1.1.1.1.i1</td>\n",
       "      <td>NaN</td>\n",
       "      <td>0</td>\n",
       "    </tr>\n",
       "    <tr>\n",
       "      <th>274</th>\n",
       "      <td>MFS-409</td>\n",
       "      <td>10.60</td>\n",
       "      <td>263.977886</td>\n",
       "      <td>270.0</td>\n",
       "      <td>98.509157</td>\n",
       "      <td>98.351910</td>\n",
       "      <td>0.015020</td>\n",
       "      <td>2.2.1.1</td>\n",
       "      <td>2.2.1.1.1</td>\n",
       "      <td>beijing,mungi</td>\n",
       "      <td>lin2.2.1,pacific_RD150</td>\n",
       "      <td>NaN</td>\n",
       "      <td>2</td>\n",
       "      <td>2.2.1.1.1</td>\n",
       "      <td>NaN</td>\n",
       "      <td>0</td>\n",
       "    </tr>\n",
       "    <tr>\n",
       "      <th>486</th>\n",
       "      <td>MFS-605</td>\n",
       "      <td>18.03</td>\n",
       "      <td>325.947942</td>\n",
       "      <td>310.0</td>\n",
       "      <td>98.965507</td>\n",
       "      <td>98.838340</td>\n",
       "      <td>0.012019</td>\n",
       "      <td>4.1.1.1</td>\n",
       "      <td>4.1.i1.2.1</td>\n",
       "      <td>xtype,canetti</td>\n",
       "      <td>NaN</td>\n",
       "      <td>4</td>\n",
       "      <td>4</td>\n",
       "      <td>4.1.i1.2.1</td>\n",
       "      <td>NaN</td>\n",
       "      <td>0</td>\n",
       "    </tr>\n",
       "    <tr>\n",
       "      <th>669</th>\n",
       "      <td>MFS-778</td>\n",
       "      <td>12.82</td>\n",
       "      <td>285.274752</td>\n",
       "      <td>292.0</td>\n",
       "      <td>98.679189</td>\n",
       "      <td>98.533004</td>\n",
       "      <td>0.011717</td>\n",
       "      <td>2.2.1.1</td>\n",
       "      <td>2.2.1.1.1</td>\n",
       "      <td>beijing,mungi</td>\n",
       "      <td>lin2.2.1,pacific_RD150</td>\n",
       "      <td>NaN</td>\n",
       "      <td>2</td>\n",
       "      <td>2.2.1.1.1</td>\n",
       "      <td>NaN</td>\n",
       "      <td>0</td>\n",
       "    </tr>\n",
       "  </tbody>\n",
       "</table>\n",
       "</div>"
      ],
      "text/plain": [
       "    SampleID  Kraken_Unclassified_Percent  Mean_Depth  Median_Depth  \\\n",
       "43   MFS-138                         7.09  292.666505         300.0   \n",
       "98   MFS-188                        17.48  233.911604         239.0   \n",
       "232  MFS-366                        13.22  312.759877         316.0   \n",
       "274  MFS-409                        10.60  263.977886         270.0   \n",
       "486  MFS-605                        18.03  325.947942         310.0   \n",
       "669  MFS-778                        12.82  285.274752         292.0   \n",
       "\n",
       "     Perc_Sites_10x  Perc_Sites_20x        F2 Coll2014         Freschi2020  \\\n",
       "43        98.507775       98.362814  0.010892  2.2.1.1           2.2.1.1.1   \n",
       "98        98.437935       98.264072  0.011793    2.2.1           2.2.1.1.1   \n",
       "232       98.901175       98.767186  0.007009      4.8  4.2.1.1.1.1.1.1.i1   \n",
       "274       98.509157       98.351910  0.015020  2.2.1.1           2.2.1.1.1   \n",
       "486       98.965507       98.838340  0.012019  4.1.1.1          4.1.i1.2.1   \n",
       "669       98.679189       98.533004  0.011717  2.2.1.1           2.2.1.1.1   \n",
       "\n",
       "      Lipworth2019              Shitikov2017 Stucki2016 Lineage  \\\n",
       "43         beijing    lin2.2.1,pacific_RD150        NaN       2   \n",
       "98         beijing  lin2.2.1,asian_african_2        NaN       2   \n",
       "232            NaN                       NaN  4.10/PGG3       4   \n",
       "274  beijing,mungi    lin2.2.1,pacific_RD150        NaN       2   \n",
       "486  xtype,canetti                       NaN          4       4   \n",
       "669  beijing,mungi    lin2.2.1,pacific_RD150        NaN       2   \n",
       "\n",
       "      Freschi_Lineage_1 Freschi_Lineage_2  Culture_Mixed_Infection  \n",
       "43            2.2.1.1.1               NaN                        0  \n",
       "98            2.2.1.1.1               NaN                        0  \n",
       "232  4.2.1.1.1.1.1.1.i1               NaN                        0  \n",
       "274           2.2.1.1.1               NaN                        0  \n",
       "486          4.1.i1.2.1               NaN                        0  \n",
       "669           2.2.1.1.1               NaN                        0  "
      ]
     },
     "execution_count": 48,
     "metadata": {},
     "output_type": "execute_result"
    }
   ],
   "source": [
    "df_WGS.query(\"Kraken_Unclassified_Percent >= 5 & Kraken_Unclassified_Percent <= 20\")"
   ]
  },
  {
   "cell_type": "code",
   "execution_count": null,
   "id": "6897291a-8582-4995-b31e-88dc67af0a49",
   "metadata": {},
   "outputs": [],
   "source": []
  }
 ],
 "metadata": {
  "kernelspec": {
   "display_name": "Python 3 (ipykernel)",
   "language": "python",
   "name": "python3"
  },
  "language_info": {
   "codemirror_mode": {
    "name": "ipython",
    "version": 3
   },
   "file_extension": ".py",
   "mimetype": "text/x-python",
   "name": "python",
   "nbconvert_exporter": "python",
   "pygments_lexer": "ipython3",
   "version": "3.9.18"
  }
 },
 "nbformat": 4,
 "nbformat_minor": 5
}
